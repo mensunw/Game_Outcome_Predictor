{
 "cells": [
  {
   "cell_type": "code",
   "execution_count": 26,
   "id": "5cda7e5b-1b3f-46c7-9d7c-6d591593d7a9",
   "metadata": {},
   "outputs": [],
   "source": [
    "# All Imports"
   ]
  },
  {
   "cell_type": "code",
   "execution_count": 23,
   "id": "2db895eb-845d-45e0-8698-f4e25765058e",
   "metadata": {},
   "outputs": [],
   "source": [
    "import os\n",
    "from dotenv import load_dotenv\n",
    "import requests"
   ]
  },
  {
   "cell_type": "markdown",
   "id": "fd773abb-66b5-415d-9a50-24e910254696",
   "metadata": {},
   "source": [
    "# Getting Data"
   ]
  },
  {
   "cell_type": "code",
   "execution_count": 29,
   "id": "1328bdc8-c0fa-4b8f-bb4d-9091dac9843a",
   "metadata": {},
   "outputs": [
    {
     "name": "stdout",
     "output_type": "stream",
     "text": [
      "Summoner ID: portal#only2\n",
      "Summoner PUUID: ooR9yijlwPy7zBP-TrBUiELgdk36B4Rf7NScAueN-8T9Pf90DXVYv9OMN5RN5VD7j12dunniBXNRLA\n"
     ]
    }
   ],
   "source": [
    "# Gets Data for a given sumoner name and summoner tag\n",
    "# def get_something\n",
    "# Set up API to get PUUID based on name & tag (America Region Only)\n",
    "load_dotenv()\n",
    "api_key = os.getenv(\"RIOT_API_KEY\")\n",
    "base_url = 'https://americas.api.riotgames.com/riot/account/v1/accounts/by-riot-id/'\n",
    "summoner_name = \"portal\"\n",
    "summoner_tag = \"only2\"\n",
    "request_url = f'{base_url}{summoner_name}/{summoner_tag}?api_key={api_key}'\n",
    "response = requests.get(request_url)\n",
    "if response.status_code == 200:\n",
    "    account_data = response.json()\n",
    "    print(f\"Summoner ID: {summoner_name}#{summoner_tag}\")\n",
    "    print(f\"Summoner PUUID: {account_data['puuid']}\")\n",
    "    \n",
    "else:\n",
    "    print(f\"Failed to fetch data: {response.status_code}\")"
   ]
  },
  {
   "cell_type": "code",
   "execution_count": 21,
   "id": "d11b5bd7-523c-4544-b983-68fc6a7526be",
   "metadata": {},
   "outputs": [],
   "source": [
    "# Loading Data"
   ]
  }
 ],
 "metadata": {
  "kernelspec": {
   "display_name": "Python 3 (ipykernel)",
   "language": "python",
   "name": "python3"
  },
  "language_info": {
   "codemirror_mode": {
    "name": "ipython",
    "version": 3
   },
   "file_extension": ".py",
   "mimetype": "text/x-python",
   "name": "python",
   "nbconvert_exporter": "python",
   "pygments_lexer": "ipython3",
   "version": "3.11.7"
  }
 },
 "nbformat": 4,
 "nbformat_minor": 5
}
