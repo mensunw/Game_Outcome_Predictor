{
 "cells": [
  {
   "cell_type": "markdown",
   "id": "c33ff7a4-75b6-42c3-ad58-efc37ff2e2d7",
   "metadata": {},
   "source": [
    "# All Imports"
   ]
  },
  {
   "cell_type": "code",
   "execution_count": 2,
   "id": "2db895eb-845d-45e0-8698-f4e25765058e",
   "metadata": {},
   "outputs": [],
   "source": [
    "import os\n",
    "from dotenv import load_dotenv\n",
    "import requests\n",
    "import time\n",
    "import sys\n",
    "from concurrent.futures import ThreadPoolExecutor, as_completed\n",
    "from threading import Semaphore"
   ]
  },
  {
   "cell_type": "markdown",
   "id": "0ee79e98-6308-4816-9a60-ee95bfe48a6e",
   "metadata": {},
   "source": [
    "# Globals"
   ]
  },
  {
   "cell_type": "code",
   "execution_count": 21,
   "id": "a9f20cb4-b3a3-4c60-9239-1b3efeec7425",
   "metadata": {},
   "outputs": [],
   "source": [
    "DEFAULT_WR = 0.40\n",
    "MAX_REQUESTS_PER_SECOND = 5\n",
    "# Can use later for getting better avg/accounting for other gamemodes\n",
    "EXCLUDED_QUEUE_IDS = {\n",
    "    0,    # Custom games\n",
    "    830,  # Co-op vs. AI: Intro bots\n",
    "    840,  # Co-op vs. AI: Beginner bots\n",
    "    850,  # Co-op vs. AI: Intermediate bots\n",
    "    450,  # ARAM\n",
    "    900,  # ARURF\n",
    "    920,  # Nexus Blitz\n",
    "    1300  # Nexus Blitz (old)\n",
    "    # Add more queue IDs to exclude other game modes\n",
    "}"
   ]
  },
  {
   "cell_type": "markdown",
   "id": "fd773abb-66b5-415d-9a50-24e910254696",
   "metadata": {},
   "source": [
    "# Getting Data"
   ]
  },
  {
   "cell_type": "code",
   "execution_count": 4,
   "id": "d0a418e2-eba4-481e-9476-8886452359ad",
   "metadata": {},
   "outputs": [],
   "source": [
    "# Set up API (NA1 Region Only)\n",
    "load_dotenv('.env')\n",
    "api_key = os.getenv(\"RIOT_API_KEY\")"
   ]
  },
  {
   "cell_type": "code",
   "execution_count": 5,
   "id": "08182ab4-473c-4cd0-b20c-c601292d45e5",
   "metadata": {},
   "outputs": [
    {
     "name": "stdout",
     "output_type": "stream",
     "text": [
      "RGAPI-95aec2f2-76d6-4d9b-b932-c842ba977c7b\n"
     ]
    }
   ],
   "source": [
    "# Testing key\n",
    "#print(api_key)\n",
    "#account_data = apiCallHandler(f'https://americas.api.riotgames.com/riot/account/v1/accounts/by-riot-id/{summoner_name}/{summoner_tag}?api_key={api_key}')\n",
    "#print(account_data)"
   ]
  },
  {
   "cell_type": "code",
   "execution_count": 6,
   "id": "0435a091-15d5-4d7b-89be-564227239668",
   "metadata": {},
   "outputs": [],
   "source": [
    "# Custom RateLimiter class\n",
    "class RateLimiter:\n",
    "    def __init__(self, max_calls, period):\n",
    "        self.max_calls = max_calls\n",
    "        self.period = period\n",
    "        self.calls = 0\n",
    "        self.start_time = time.time()\n",
    "\n",
    "    def acquire(self):\n",
    "        current_time = time.time()\n",
    "        elapsed = current_time - self.start_time\n",
    "        if elapsed > self.period:\n",
    "            self.calls = 0\n",
    "            self.start_time = current_time\n",
    "        if self.calls < self.max_calls:\n",
    "            self.calls += 1\n",
    "        else:\n",
    "            time_to_wait = self.period - elapsed\n",
    "            if time_to_wait > 0:\n",
    "                time.sleep(time_to_wait)\n",
    "            self.calls = 1\n",
    "            self.start_time = time.time()"
   ]
  },
  {
   "cell_type": "code",
   "execution_count": 7,
   "id": "a758a24a-86de-4aca-9c0c-90c393b235cf",
   "metadata": {},
   "outputs": [],
   "source": [
    "# Function for detecting and handling limit reached (429) and NOT success (200)\n",
    "def apiCallHandler(request_url):\n",
    "    #print(request_url)\n",
    "    response = requests.get(request_url)\n",
    "\n",
    "    while response.status_code != 200: # while loop here for later when we want to ignore error 429\n",
    "        if(response.status_code == 429):\n",
    "            # Not success but is 429 API limit error\n",
    "            print(\"TMP: status 429 detected\")\n",
    "            sys.exit(\"Stopping all execution\")\n",
    "        else:\n",
    "            # Not success and not 429 API limit error\n",
    "            print(f\"Failed to fetch data: {response.status_code}\")\n",
    "            sys.exit(\"Stopping all execution\")\n",
    "    # (finally) status of 200\n",
    "    return response.json()"
   ]
  },
  {
   "cell_type": "code",
   "execution_count": 11,
   "id": "e01e1591-4763-4264-9ddc-97166f8ebe1e",
   "metadata": {},
   "outputs": [],
   "source": [
    "# Function for multithread api calls\n",
    "def apiMultiCallHandler(request_url, rate_limiter):\n",
    "    rate_limiter.acquire()\n",
    "    response = requests.get(request_url)\n",
    "    while response.status_code != 200: # while loop here for later when we want to ignore error 429\n",
    "        if(response.status_code == 429):\n",
    "            # Not success but is 429 API limit error\n",
    "            print(\"TMP: status 429 detected\")\n",
    "            sys.exit(\"Stopping all execution\")\n",
    "        else:\n",
    "            # Not success and not 429 API limit error\n",
    "            print(f\"Failed to fetch data: {response.status_code}\")\n",
    "            sys.exit(\"Stopping all execution\")\n",
    "    # (finally) status of 200\n",
    "    return response.json()"
   ]
  },
  {
   "cell_type": "code",
   "execution_count": 12,
   "id": "18d84a0e-b0ed-4815-bf37-2e4e28643283",
   "metadata": {},
   "outputs": [],
   "source": [
    "# Function for using multithreading when calling multiple APIs\n",
    "# urls = a list of urls desired (and compatible) to multithread\n",
    "def multithread_call(urls):\n",
    "    results = []\n",
    "    # Rate_limiters for limiting requests, threadpoolexecutor ensures max concurrent workers don't exceed\n",
    "    rate_limiter = RateLimiter(max_calls=MAX_REQUESTS_PER_SECOND, period=1)\n",
    "    with ThreadPoolExecutor(max_workers=MAX_REQUESTS_PER_SECOND) as executor:\n",
    "        # \"Future\" objects store the future value of the API call\n",
    "        futures = [executor.submit(apiMultiCallHandler, f\"https://americas.api.riotgames.com/lol/match/v5/matches/{url}?api_key={api_key}\", rate_limiter) for url in urls]\n",
    "        # as_completed takes \"Future\" objects in the order they complete\n",
    "        for future in as_completed(futures):\n",
    "            try:\n",
    "                result = future.result()\n",
    "                results.append(result)\n",
    "            except Exception as e:\n",
    "                # This shouldn't ever happen, API error checking done in the API handler\n",
    "                print(f\"Exception: {e}\")\n",
    "                sys.exit(\"Stopping all execution\")\n",
    "    return results"
   ]
  },
  {
   "cell_type": "code",
   "execution_count": 13,
   "id": "4a53c58a-4fa9-4bc6-9822-eba1f2b46a03",
   "metadata": {},
   "outputs": [],
   "source": [
    "# Function for calculating average win rate of a summoner using multithreading\n",
    "def avg_wr_summoner(match_history, summoner_puuid):\n",
    "    if(len(match_history) == 0):\n",
    "        return DEFAULT_WR\n",
    "    results = multithread_call(match_history)\n",
    "    total_matches = 0\n",
    "    win_count = 0\n",
    "    for response in results:\n",
    "        try:\n",
    "            # Finds the first participant's id who's equal to the summoner's puuid\n",
    "            participant = next(p for p in response['info']['participants'] if p['puuid'] == summoner_puuid)\n",
    "            if(participant['win'] == True):\n",
    "                win_count+=1\n",
    "            total_matches+=1\n",
    "        except StopIteration:\n",
    "            print(\"ERROR: StopIteration exception occured, Riot data incorrect?\")\n",
    "            sys.exit(\"Stopping all execution\")\n",
    "        except:\n",
    "            print(\"ERROR: Exception occured, shouldn't be here\")\n",
    "            sys.exit(\"Stopping all execution\")\n",
    "    return round(win_count/total_matches, 2)"
   ]
  },
  {
   "cell_type": "code",
   "execution_count": 23,
   "id": "8daf0498-5b96-4eb9-a2da-83d49595e65d",
   "metadata": {},
   "outputs": [
    {
     "name": "stdout",
     "output_type": "stream",
     "text": [
      "Summoner ID: kneesyd#NA1\n",
      "Summoner PUUID: mO4gr-whHun9IRseQslUEGJlORnH1SO3x-uUcAWVjsqyI8GKIQ5oysRDMqRHXSmbG6uzE3m4ZzoO8Q\n"
     ]
    }
   ],
   "source": [
    "# Gets Data for a given sumoner name and summoner tag\n",
    "# Data currently equals: Summoner Level, AVG win rate for past 20 matches, \n",
    "# def get_something\n",
    "\n",
    "# tmp, replace with ID of summoner\n",
    "summoner_name = \"kneesyd\"#\"portal\"\n",
    "summoner_tag = \"NA1\"#\"only2\"\n",
    "\n",
    "# Get PUUID based on name & tag; max api_calls = 1 (No multithread)\n",
    "account_data = apiCallHandler(f'https://americas.api.riotgames.com/riot/account/v1/accounts/by-riot-id/{summoner_name}/{summoner_tag}?api_key={api_key}')\n",
    "print(f\"Summoner ID: {summoner_name}#{summoner_tag}\")\n",
    "print(f\"Summoner PUUID: {account_data['puuid']}\")\n",
    "summoner_puuid = account_data['puuid']\n",
    "\n",
    "# Get summoners' match history & length using their PUUID, filters only for normal draft games; max api_calls = 1 (No multithread)\n",
    "summoner_match_history = apiCallHandler(f'https://americas.api.riotgames.com/lol/match/v5/matches/by-puuid/{summoner_puuid}/ids?queue=400&type=normal&start=0&count=20&api_key={api_key}')\n",
    "summoner_match_history_length = len(summoner_match_history)\n",
    "\n",
    "# Get summoners' level using their PUUID; max api_calls = 1\n",
    "summoner_data = apiCallHandler(f'https://na1.api.riotgames.com/lol/summoner/v4/summoners/by-puuid/{summoner_puuid}?api_key={api_key}')\n",
    "summoner_level = summoner_data['summonerLevel']\n",
    "\n",
    "# Get summoners' win rate using match history; max_api_calls = 20 \n",
    "# Future work: Ensure that no custom, bot, tutorial, or arena/limited game mode matches\n",
    "# Future work: If match count is < 20, THEN use quickplay and aram stats (assign weights to them)\n",
    "# Future work: add compatibility for predicting specifically gamemodes other than normal draft \n",
    "avg_wr = avg_wr_summoner(summoner_match_history, summoner_puuid)\n"
   ]
  },
  {
   "cell_type": "markdown",
   "id": "70a27077-6678-44c7-a893-c5afb49589d6",
   "metadata": {},
   "source": [
    "# Placing Data Into CSV File"
   ]
  },
  {
   "cell_type": "markdown",
   "id": "1af32279-9cde-4185-84fd-a07728faf825",
   "metadata": {},
   "source": [
    "# Loading Data"
   ]
  },
  {
   "cell_type": "code",
   "execution_count": null,
   "id": "e89c0833-b062-402f-9d85-9f41f2f21eeb",
   "metadata": {},
   "outputs": [],
   "source": []
  }
 ],
 "metadata": {
  "kernelspec": {
   "display_name": "Python 3 (ipykernel)",
   "language": "python",
   "name": "python3"
  },
  "language_info": {
   "codemirror_mode": {
    "name": "ipython",
    "version": 3
   },
   "file_extension": ".py",
   "mimetype": "text/x-python",
   "name": "python",
   "nbconvert_exporter": "python",
   "pygments_lexer": "ipython3",
   "version": "3.11.7"
  }
 },
 "nbformat": 4,
 "nbformat_minor": 5
}
