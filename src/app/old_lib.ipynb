{
 "cells": [
  {
   "cell_type": "code",
   "execution_count": 8,
   "id": "bd51b553-e830-46cb-8b96-50c778eb374d",
   "metadata": {},
   "outputs": [],
   "source": [
    "import time\n",
    "import threading\n",
    "from collections import deque"
   ]
  },
  {
   "cell_type": "code",
   "execution_count": 19,
   "id": "18f5f026-db70-40b5-b853-1c5ce92537a0",
   "metadata": {},
   "outputs": [],
   "source": [
    "class RateLimiter_Method:\n",
    "    \"\"\"\n",
    "        Second (Generic) Rate Limiter class for method rate limits\n",
    "    \"\"\"\n",
    "    def __init__(self, limits):\n",
    "        \"\"\"\n",
    "            Args:\n",
    "                limits: A list of tuples, where each tuple contains (max_requests, period_in_seconds)\n",
    "        \"\"\"\n",
    "        self.limits = limits\n",
    "        self.lock = threading.Lock()\n",
    "        self.request_times = {limit: deque() for limit in self.limits}\n",
    "\n",
    "    def acquire(self):\n",
    "        # Only one thread at a time\n",
    "        with self.lock:\n",
    "            while True:\n",
    "                now = time.time()\n",
    "                allowed = True\n",
    "\n",
    "                # Go through every request and ensure rates are being followed\n",
    "                for max_requests, time_window in self.limits:\n",
    "                    q = self.request_times[(max_requests, time_window)]\n",
    "                    # Remove timestamps older than the time window\n",
    "                    while q and q[0] < now - time_window:\n",
    "                        q.popleft()\n",
    "\n",
    "                    if len(q) >= max_requests:\n",
    "                        # Rate limit has been hit, will sleep for this one and then update all rates again / continue checking\n",
    "                        allowed = False\n",
    "                        wait_time = time_window - (now - q[0])\n",
    "                        print(f\"Rate limit reached for {max_requests}/{time_window}s. Sleeping for {wait_time:.2f} seconds.\")\n",
    "                        time.sleep(wait_time)\n",
    "                        break\n",
    "\n",
    "                if allowed:\n",
    "                    # If here that means got through every limit check\n",
    "                    for max_requests, time_window in self.limits:\n",
    "                        # For every limit, add this timestamp\n",
    "                        self.request_times[(max_requests, time_window)].append(now)\n",
    "                    break\n",
    "                    \n",
    "            current_time = time.time()\n",
    "    \n",
    "            # Find time elapsed since first \n",
    "            elapsed = current_time - self.start_time\n",
    "    \n",
    "            # Reset calls and start time if period passed\n",
    "            if elapsed > self.period:\n",
    "                self.calls = 0\n",
    "                self.start_time = current_time\n",
    "    \n",
    "            # Proceed to sleep or not depending on if max calls per second exceeded\n",
    "            if self.calls < self.max_calls:\n",
    "                self.calls += 1\n",
    "            else:\n",
    "                time_to_wait = self.period - elapsed\n",
    "                if time_to_wait > 0:\n",
    "                    print(f\"Rate limit reached for {MAX_REQUESTS_PER_SECOND}/1s. Sleeping for {time_to_wait:.2f} seconds.\")\n",
    "                    time.sleep(time_to_wait)\n",
    "                self.calls = 1\n",
    "                self.start_time = time.time()\n"
   ]
  },
  {
   "cell_type": "code",
   "execution_count": null,
   "id": "e885e036-dabb-447f-80d7-e3dcceafb49d",
   "metadata": {},
   "outputs": [],
   "source": []
  }
 ],
 "metadata": {
  "kernelspec": {
   "display_name": "Python 3 (ipykernel)",
   "language": "python",
   "name": "python3"
  },
  "language_info": {
   "codemirror_mode": {
    "name": "ipython",
    "version": 3
   },
   "file_extension": ".py",
   "mimetype": "text/x-python",
   "name": "python",
   "nbconvert_exporter": "python",
   "pygments_lexer": "ipython3",
   "version": "3.11.7"
  }
 },
 "nbformat": 4,
 "nbformat_minor": 5
}
